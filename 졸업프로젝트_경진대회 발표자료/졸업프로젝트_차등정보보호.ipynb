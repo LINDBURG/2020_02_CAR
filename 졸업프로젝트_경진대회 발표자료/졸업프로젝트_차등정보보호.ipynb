{
  "nbformat": 4,
  "nbformat_minor": 0,
  "metadata": {
    "colab": {
      "name": "졸업프로젝트_차등정보보호",
      "provenance": [],
      "collapsed_sections": [],
      "toc_visible": true
    },
    "kernelspec": {
      "display_name": "Python 3",
      "name": "python3"
    }
  },
  "cells": [
    {
      "cell_type": "markdown",
      "metadata": {
        "id": "U4vZDp6oYMRj"
      },
      "source": [
        "# Upload CSV"
      ]
    },
    {
      "cell_type": "code",
      "metadata": {
        "colab": {
          "resources": {
            "http://localhost:8080/nbextensions/google.colab/files.js": {
              "data": "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",
              "headers": [
                [
                  "content-type",
                  "application/javascript"
                ]
              ],
              "ok": true,
              "status": 200,
              "status_text": "OK"
            }
          },
          "base_uri": "https://localhost:8080/",
          "height": 112
        },
        "id": "PARyXJ9ifktF",
        "outputId": "978f01b4-a5f6-4da7-a448-a867c685e08b"
      },
      "source": [
        "from google.colab import files\n",
        "uploaded = files.upload()"
      ],
      "execution_count": null,
      "outputs": [
        {
          "output_type": "display_data",
          "data": {
            "text/html": [
              "\n",
              "     <input type=\"file\" id=\"files-8c8b0136-2942-4e68-a8b5-716007d0696b\" name=\"files[]\" multiple disabled\n",
              "        style=\"border:none\" />\n",
              "     <output id=\"result-8c8b0136-2942-4e68-a8b5-716007d0696b\">\n",
              "      Upload widget is only available when the cell has been executed in the\n",
              "      current browser session. Please rerun this cell to enable.\n",
              "      </output>\n",
              "      <script src=\"/nbextensions/google.colab/files.js\"></script> "
            ],
            "text/plain": [
              "<IPython.core.display.HTML object>"
            ]
          },
          "metadata": {
            "tags": []
          }
        },
        {
          "output_type": "stream",
          "text": [
            "Saving test_data.csv to test_data.csv\n",
            "Saving train_data.csv to train_data.csv\n"
          ],
          "name": "stdout"
        }
      ]
    },
    {
      "cell_type": "markdown",
      "metadata": {
        "id": "pdN4jY-NYQhZ"
      },
      "source": [
        "# Preprocess Data"
      ]
    },
    {
      "cell_type": "code",
      "metadata": {
        "colab": {
          "base_uri": "https://localhost:8080/"
        },
        "id": "15VNLO_dfU8B",
        "outputId": "fdb84f2a-0f58-4e78-cdb0-90df21c38a28"
      },
      "source": [
        "import pandas as pd\n",
        "import numpy as np\n",
        "\n",
        "stride = 16\n",
        "wnd_size = 32 # default 32\n",
        "\n",
        "\n",
        "hlt = [0.028565500784550377, 0.04393693362340742, 0.06572852861653047, 0.0956344448325386, 0.1353352832366127, 0.1862704636977009, 0.24935220877729622, 0.32465246735834974, 0.41111229050718745, 0.5063356166481006, 0.6065306597126334, 0.7066482778577162, 0.8007374029168081, 0.8824969025845955, 0.9459594689067654, 0.9862071167439163, 1.0, 0.9862071167439163, 0.9459594689067654, 0.8824969025845955, 0.8007374029168081, 0.7066482778577162, 0.6065306597126334, 0.5063356166481006, 0.41111229050718745, 0.32465246735834974, 0.24935220877729622, 0.1862704636977009, 0.1353352832366127, 0.0956344448325386, 0.06572852861653047, 0.04393693362340742]\n",
        "hlt = np.array(hlt)\n",
        "\n",
        "def window_stack(a, stepsize=1, width=3):\n",
        "  n = a.shape[0]\n",
        "  return np.hstack(a[i:1+n+i-width:stepsize] for i in range(0, width))\n",
        "\n",
        "def read_csv(csv_file, fields, doDP, eps = 1.0):\n",
        "    df = pd.read_csv(csv_file, usecols=fields)\n",
        "\n",
        "    df_np = df.to_numpy()\n",
        "\n",
        "    # first, split data by time-intervals\n",
        "    df_np_split = np.split(df_np, np.where(df_np[:, 5] == 1)[0][1:], axis=0)\n",
        "    df_wnd_lst = [];\n",
        "\n",
        "    if(doDP):\n",
        "        for i in df_np_split:\n",
        "            for j in range(5):\n",
        "                each_data = i[:,j]\n",
        "\n",
        "                mindata = min(each_data)\n",
        "                maxdata = max(each_data)\n",
        "\n",
        "                GF = 10*(maxdata - mindata) / np.mean(each_data)\n",
        "                #GF = 3*np.std(each_data) / np.mean(each_data)\n",
        "                #GF = (maxdata - mindata) / math.sqrt((maxdata + mindata)/2)\n",
        "                \n",
        "                noise = np.random.laplace(0, GF / eps, each_data.shape)\n",
        "                i[:,j] = each_data + noise\n",
        "    # then, in each time-intervals, split by window size, jump by stride\n",
        "    for i in df_np_split:\n",
        "        # stride, wnd_size\n",
        "        wnd = window_stack(i, stride, wnd_size)\n",
        "        wnd = wnd.reshape(wnd.shape[0], wnd_size, 7)\n",
        "        # wnd = np.append(wnd[:, :, :5] * hlt[:, np.newaxis], wnd[:, :, 5:], axis=2)\n",
        "        df_wnd_lst.append(wnd)\n",
        "\n",
        "    return df_wnd_lst\n",
        "\n",
        "csv_file =  \"train_data.csv\"\n",
        "fields = ['Engine_Idel_Target_Speed', 'Torque_converter_speed',\n",
        "          'Transmission_oil_temperature', 'Wheel_velocity_rear_left-hand',\n",
        "          'Torque_converter_turbine_speed_-_Unfiltered', 'Time(s)', 'Driver']\n",
        "\n",
        "df_wnd_lst1 = read_csv('train_data.csv',fields,doDP=False) #train data를 DP없이 읽음.\n",
        "df_wnd_lst2 = read_csv('train_data.csv',fields,doDP=True,eps=0.5) # train data를 읽어서 DP처리\n",
        "df_wnd_lst3 = read_csv('test_data.csv',fields,doDP=False) # test data를 읽음.\n",
        "\n",
        "print(df_wnd_lst1[0][0][0])\n",
        "print(df_wnd_lst2[0][0][0])\n",
        "print(df_wnd_lst3[0][0][0])"
      ],
      "execution_count": null,
      "outputs": [
        {
          "output_type": "stream",
          "text": [
            "/usr/local/lib/python3.6/dist-packages/ipykernel_launcher.py:13: FutureWarning: arrays to stack must be passed as a \"sequence\" type such as list or tuple. Support for non-sequence iterables such as generators is deprecated as of NumPy 1.16 and will raise an error in the future.\n",
            "  del sys.path[0]\n"
          ],
          "name": "stderr"
        },
        {
          "output_type": "stream",
          "text": [
            "[650 939.3 87 0.0 935.5 1 'A']\n",
            "[646.6311581825881 928.4781601172524 86.49679432014715 57.588477072543895\n",
            " 897.5857034833664 1 'A']\n",
            "[630 1121.8 95 0.0 1136.0 1 'A']\n"
          ],
          "name": "stdout"
        }
      ]
    },
    {
      "cell_type": "markdown",
      "metadata": {
        "id": "gOLk5vtyYpZ-"
      },
      "source": [
        "# k-means Clustering (would not work if wnd_size!=32 ... for now)"
      ]
    },
    {
      "cell_type": "code",
      "metadata": {
        "colab": {
          "base_uri": "https://localhost:8080/",
          "height": 74
        },
        "id": "d-WY7kb-cLU-",
        "outputId": "e64a8964-fd9a-4aaf-99aa-5c1b72bd071a"
      },
      "source": [
        "from sklearn.cluster import KMeans\n",
        "import numpy as np\n",
        "\n",
        "K = 100\n",
        "\n",
        "# data = df_wnd_lst[0].reshape(df_wnd_lst[0].shape[0], 160)\n",
        "def kmeans_cluster(df_wnd_lst):\n",
        "    data_driver = {}\n",
        "    kmeans_driver = {}\n",
        "\n",
        "    # split data by drivers\n",
        "    for data in df_wnd_lst:\n",
        "        driver = data[0][0][6]\n",
        "        if data_driver.get(driver) is None:\n",
        "            data_driver[driver] = data\n",
        "        else:\n",
        "            data_driver[driver] = np.append(data_driver[driver], data, axis=0)\n",
        "\n",
        "    # derive k-means for each of driver DB\n",
        "    for driver, data in data_driver.items():\n",
        "        data = data[:, :, :5]\n",
        "        data = data.reshape(data.shape[0], 160)\n",
        "        kmeans = KMeans(n_clusters=K, random_state=0).fit(data)\n",
        "        kmeans_driver[driver] = kmeans\n",
        "\n",
        "    return kmeans_driver\n",
        "\n",
        "kmeans_driver1 = kmeans_cluster(df_wnd_lst1)\n",
        "kmeans_driver2 = kmeans_cluster(df_wnd_lst2)\n",
        "'''\n",
        "for driver, data in data_driver.items():\n",
        "  for i in range(5):\n",
        "    cdata = data[:, :, i]\n",
        "    cdata = cdata.reshape(cdata.shape[0], 32)\n",
        "    kmeans = KMeans(n_clusters=K, random_state=0).fit(cdata)\n",
        "    if kmeans_driver.get(driver) is None:\n",
        "      kmeans_driver[driver] = [kmeans]\n",
        "    else:\n",
        "      kmeans_driver[driver].append(kmeans)\n",
        "'''\n",
        "\n",
        "# kmeans_driver['A'].cluster_centers_\n",
        "\n",
        "# kmeans = KMeans(n_clusters=K, random_state=0).fit(data)\n",
        "\n",
        "# kmeans.cluster_centers_\n",
        "# for prediction, kmeans.predict(arr)\n",
        "# for cluster centers, kmeans.cluster_centers_\n",
        "# for labels, lkmeans.labels_"
      ],
      "execution_count": null,
      "outputs": [
        {
          "output_type": "execute_result",
          "data": {
            "application/vnd.google.colaboratory.intrinsic+json": {
              "type": "string"
            },
            "text/plain": [
              "'\\nfor driver, data in data_driver.items():\\n  for i in range(5):\\n    cdata = data[:, :, i]\\n    cdata = cdata.reshape(cdata.shape[0], 32)\\n    kmeans = KMeans(n_clusters=K, random_state=0).fit(cdata)\\n    if kmeans_driver.get(driver) is None:\\n      kmeans_driver[driver] = [kmeans]\\n    else:\\n      kmeans_driver[driver].append(kmeans)\\n'"
            ]
          },
          "metadata": {
            "tags": []
          },
          "execution_count": 79
        }
      ]
    },
    {
      "cell_type": "markdown",
      "metadata": {
        "id": "0IPCqJabhQg2"
      },
      "source": [
        "# Restoration of driving traits"
      ]
    },
    {
      "cell_type": "code",
      "metadata": {
        "colab": {
          "base_uri": "https://localhost:8080/",
          "height": 303
        },
        "id": "-9gWYgdIhQO_",
        "outputId": "da969246-b673-404a-ac89-2268bb9ebf6e"
      },
      "source": [
        "import matplotlib.pyplot as plt\n",
        "\n",
        "def restore(kmeans_driver,df_wnd_lst,driver='A'):\n",
        "    kmeans = kmeans_driver[driver]\n",
        "    test_pattern = df_wnd_lst[0]\n",
        "\n",
        "    #print('실제값 : ',test_pattern[0][0][:5])\n",
        "    reconst_pattern = np.empty((0, 32, 5))\n",
        "\n",
        "    test_pattern = test_pattern[:, :, :5]\n",
        "    test_pattern = test_pattern.reshape(test_pattern.shape[0], 32 * 5)\n",
        "    labels = kmeans.predict(test_pattern)\n",
        "    reconst_wnd = np.array([kmeans.cluster_centers_[i] for i in labels])\n",
        "    reconst_wnd = reconst_wnd.reshape(reconst_wnd.shape[0], 32, 5)\n",
        "\n",
        "    reconst_pattern_sum = np.zeros(((test_pattern.shape[0] - 1) * stride + wnd_size, 5))\n",
        "    reconst_pattern_acc = np.zeros(((test_pattern.shape[0] - 1) * stride + wnd_size, 1))\n",
        "\n",
        "    for i in range(reconst_wnd.shape[0]):\n",
        "        for j in range(wnd_size):\n",
        "            reconst_pattern_sum[stride * i + j] += reconst_wnd[i, j]\n",
        "            reconst_pattern_acc[stride * i + j] += 1\n",
        "\n",
        "    reconst_pattern = reconst_pattern_sum / reconst_pattern_acc \n",
        "    return reconst_pattern\n",
        "\n",
        "reconst_pattern1 = restore(kmeans_driver1,df_wnd_lst1)\n",
        "reconst_pattern2 = restore(kmeans_driver2,df_wnd_lst2)\n",
        "\n",
        "print('노이즈없이 : ',reconst_pattern1[0])\n",
        "print('노이즈 : ',reconst_pattern2[0])\n",
        "\n",
        "err = abs(reconst_pattern1 - reconst_pattern2)\n",
        "#print(err)\n",
        "x = np.arange(len(err))\n",
        "\n",
        "plt.plot(x,reconst_pattern1[:,0], color='red')\n",
        "plt.plot(x,reconst_pattern2[:,0], color='blue')\n",
        "plt.plot(x,err[:,0], color='orange')\n",
        "plt.show()"
      ],
      "execution_count": null,
      "outputs": [
        {
          "output_type": "stream",
          "text": [
            "노이즈없이 :  [774.44444444 741.14444444  93.55555556   5.27777778 740.76666667]\n",
            "노이즈 :  [779.68029494 669.87100436 100.24886864  44.76853478 712.5989693 ]\n"
          ],
          "name": "stdout"
        },
        {
          "output_type": "display_data",
          "data": {
            "image/png": "[encoded data removed]",
            "text/plain": [
              "<Figure size 432x288 with 1 Axes>"
            ]
          },
          "metadata": {
            "tags": [],
            "needs_background": "light"
          }
        }
      ]
    },
    {
      "cell_type": "markdown",
      "metadata": {
        "id": "yKMMpsl9ZBKm"
      },
      "source": [
        "# Classify using Random Forest (scikit is just divine)"
      ]
    },
    {
      "cell_type": "code",
      "metadata": {
        "colab": {
          "base_uri": "https://localhost:8080/"
        },
        "id": "MzpdsTWHOozK",
        "outputId": "8b97717c-67c8-4a20-fd2d-5652eb75b943"
      },
      "source": [
        "from sklearn.ensemble import RandomForestClassifier\n",
        "from sklearn.utils import shuffle\n",
        "from sklearn.metrics import accuracy_score\n",
        "\n",
        "def classify(df_wnd_lst,df_wnd_lst2):\n",
        "    all_data = None\n",
        "\n",
        "    for data in df_wnd_lst:\n",
        "        if all_data is None:\n",
        "            all_data = data\n",
        "        else:\n",
        "            all_data = np.append(all_data, data, axis=0)\n",
        "\n",
        "    rf_x = all_data[:, :, :5].reshape(all_data.shape[0], wnd_size * 5)\n",
        "    rf_y = all_data[:, :, 6].reshape(all_data.shape[0], wnd_size)\n",
        "\n",
        "    rf_x, rf_y = shuffle(rf_x, rf_y)\n",
        "\n",
        "    rf_data_x = rf_x[:2000]\n",
        "    rf_data_y = rf_y[:2000,0]\n",
        "    all_data = None\n",
        "\n",
        "    for data in df_wnd_lst2:\n",
        "        if all_data is None:\n",
        "            all_data = data\n",
        "        else:\n",
        "            all_data = np.append(all_data, data, axis=0)\n",
        "\n",
        "    rf_x = all_data[:, :, :5].reshape(all_data.shape[0], wnd_size * 5)\n",
        "    rf_y = all_data[:, :, 6].reshape(all_data.shape[0], wnd_size)\n",
        "\n",
        "    rf_x, rf_y = shuffle(rf_x, rf_y)\n",
        "\n",
        "    rf_test_x = rf_x[-500:]\n",
        "    rf_test_y = rf_y[-500:,0]\n",
        "\n",
        "    rf = RandomForestClassifier(n_estimators=100, oob_score=True)\n",
        "    rf.fit(rf_data_x, rf_data_y)\n",
        "\n",
        "    predicted = rf.predict(rf_test_x)\n",
        "    accuracy = accuracy_score(rf_test_y, predicted)\n",
        "\n",
        "    print('oob_score : ',rf.oob_score_)\n",
        "    print('accuracy : ',accuracy)\n",
        "\n",
        "print('Classify in NoDP')\n",
        "classify(df_wnd_lst1,df_wnd_lst1)\n",
        "print('Classify in DP')\n",
        "classify(df_wnd_lst2,df_wnd_lst1)"
      ],
      "execution_count": null,
      "outputs": [
        {
          "output_type": "stream",
          "text": [
            "Classify in NoDP\n",
            "oob_score :  0.567\n",
            "accuracy :  0.632\n",
            "Classify in DP\n",
            "oob_score :  0.5415\n",
            "accuracy :  0.532\n"
          ],
          "name": "stdout"
        }
      ]
    },
    {
      "cell_type": "code",
      "metadata": {
        "id": "4go4iV6oG4Fd"
      },
      "source": [
        ""
      ],
      "execution_count": null,
      "outputs": []
    }
  ]
}