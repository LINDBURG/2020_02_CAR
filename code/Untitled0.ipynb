{
 "cells": [
  {
   "cell_type": "markdown",
   "metadata": {
    "id": "u9j2J9ioeGH2"
   },
   "source": [
    "# Model Definition"
   ]
  },
  {
   "cell_type": "markdown",
   "metadata": {
    "id": "QGqnUDlAhE5t"
   },
   "source": [
    "Define model:"
   ]
  },
  {
   "cell_type": "code",
   "execution_count": 4,
   "metadata": {
    "executionInfo": {
     "elapsed": 501,
     "status": "ok",
     "timestamp": 1602661454488,
     "user": {
      "displayName": "­이준수[ 학부재학 / 컴퓨터학과 ]",
      "photoUrl": "https://lh3.googleusercontent.com/a-/AOh14GgPSYzkvU8JvSEcAaxhfDugPgkoP6v1h_YhvO0=s64",
      "userId": "11359080006605365733"
     },
     "user_tz": -540
    },
    "id": "w3HKDFdohHxu"
   },
   "outputs": [],
   "source": [
    "import torch\n",
    "import torch.autograd as autograd\n",
    "import torch.nn as nn\n",
    "import torch.functional as F\n",
    "import torch.optim as optim\n",
    "\n",
    "if torch.cuda.is_available():\n",
    "  dev = \"cuda:0\"\n",
    "else:\n",
    "  dev = \"cpu\"\n",
    "\n",
    "class Car_LSTM(nn.Module):\n",
    "\n",
    "  def __init__(self, input_dim, hidden_dim, seq_len, n_class, n_layers=2):\n",
    "      super(Car_LSTM, self).__init__()\n",
    "      self.hidden_dim = hidden_dim\n",
    "      self.seq_len = seq_len\n",
    "      self.n_layers = n_layers\n",
    "      self.n_class = n_class\n",
    "\n",
    "      self.lstm = nn.LSTM(\n",
    "          input_size = input_dim,\n",
    "          hidden_size = hidden_dim,\n",
    "          num_layers = n_layers,\n",
    "          dropout = 0.2\n",
    "      )\n",
    "\n",
    "      self.fc = nn.Linear(in_features=hidden_dim, out_features=n_class)\n",
    "\n",
    "  def reset_hidden_state(self):\n",
    "    self.hidden = (\n",
    "        torch.zeros(self.n_layers, self.seq_len, self.hidden_dim).to(torch.device(dev)),\n",
    "        torch.zeros(self.n_layers, self.seq_len, self.hidden_dim).to(torch.device(dev))\n",
    "    )\n",
    "\n",
    "  def forward(self, sequences):\n",
    "    lstm_out, self.hidden = self.lstm(sequences.view(len(sequences), self.seq_len, -1), self.hidden)\n",
    "    output = lstm_out.view(self.seq_len, len(sequences), self.hidden_dim)[-1]\n",
    "    output = self.fc(output)\n",
    "\n",
    "    return output"
   ]
  },
  {
   "cell_type": "markdown",
   "metadata": {
    "id": "Cy5JegJ4jE28"
   },
   "source": [
    "# Model Training"
   ]
  },
  {
   "cell_type": "markdown",
   "metadata": {
    "id": "m7YMLvPHll-E"
   },
   "source": [
    "Preprocessing tools"
   ]
  },
  {
   "cell_type": "code",
   "execution_count": 5,
   "metadata": {
    "executionInfo": {
     "elapsed": 534,
     "status": "ok",
     "timestamp": 1602661459630,
     "user": {
      "displayName": "­이준수[ 학부재학 / 컴퓨터학과 ]",
      "photoUrl": "https://lh3.googleusercontent.com/a-/AOh14GgPSYzkvU8JvSEcAaxhfDugPgkoP6v1h_YhvO0=s64",
      "userId": "11359080006605365733"
     },
     "user_tz": -540
    },
    "id": "lWxODI8-ln85"
   },
   "outputs": [],
   "source": [
    "import pandas as pd\n",
    "import numpy\n",
    "import torch\n",
    "\n",
    "def process_rows(row):\n",
    "  ret = []\n",
    "  ret.append(row['Timestamp'])\n",
    "  ret.append(numpy.int64(int(row['Arbitration_ID'], 16)))\n",
    "  ret.append(row['DLC'])\n",
    "  \n",
    "  tmp = row['Data'].split(' ')\n",
    "  tmp.extend(['00'] * (8 - len(tmp)))\n",
    "  ret.extend(list(map(lambda x: numpy.int64(int(x, 16)), tmp)))\n",
    "  \n",
    "  if row['Class'] == 'Normal':\n",
    "    t = [1,0,0,0,0]\n",
    "  else:\n",
    "    atktype = row['SubClass']\n",
    "    if atktype == 'Flooding':\n",
    "      t = [0,1,0,0,0]\n",
    "    elif atktype == 'Fuzzing':\n",
    "      t = [0,0,1,0,0]\n",
    "    elif atktype == 'Replay':\n",
    "      t = [0,0,0,1,0]\n",
    "    elif atktype == 'Spoofing':\n",
    "      t = [0,0,0,0,1]\n",
    "  \n",
    "  ret.append(t)\n",
    "  return ret\n",
    "\n",
    "def create_sequences(array, seq_length):\n",
    "  res = []\n",
    "  if seq_length == 1:\n",
    "    for i in range(len(array)):\n",
    "      tmp = [array[i]]\n",
    "      res.append(tmp)\n",
    "  else:\n",
    "    for i in range(len(array) - seq_length - 1):\n",
    "      tmp = array[i:(i + seq_length)]\n",
    "      res.append(tmp)\n",
    "  \n",
    "  return res"
   ]
  },
  {
   "cell_type": "markdown",
   "metadata": {
    "id": "iR4byAhHo_aN"
   },
   "source": [
    "import data"
   ]
  },
  {
   "cell_type": "code",
   "execution_count": 2,
   "metadata": {
    "colab": {
     "base_uri": "https://localhost:8080/",
     "height": 111,
     "resources": {
      "http://localhost:8080/nbextensions/google.colab/files.js": {
       "data": "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",
       "headers": [
        [
         "content-type",
         "application/javascript"
        ]
       ],
       "ok": true,
       "status": 200,
       "status_text": ""
      }
     }
    },
    "executionInfo": {
     "elapsed": 568528,
     "status": "ok",
     "timestamp": 1602661392540,
     "user": {
      "displayName": "­이준수[ 학부재학 / 컴퓨터학과 ]",
      "photoUrl": "https://lh3.googleusercontent.com/a-/AOh14GgPSYzkvU8JvSEcAaxhfDugPgkoP6v1h_YhvO0=s64",
      "userId": "11359080006605365733"
     },
     "user_tz": -540
    },
    "id": "EdUaALvepAjK",
    "outputId": "3ea78ce5-ae22-4820-a6a1-d98013a9bc86"
   },
   "outputs": [
    {
     "data": {
      "text/html": [
       "\n",
       "     <input type=\"file\" id=\"files-37a7b436-5cf2-4d9a-90e9-0cd4541e497b\" name=\"files[]\" multiple disabled\n",
       "        style=\"border:none\" />\n",
       "     <output id=\"result-37a7b436-5cf2-4d9a-90e9-0cd4541e497b\">\n",
       "      Upload widget is only available when the cell has been executed in the\n",
       "      current browser session. Please rerun this cell to enable.\n",
       "      </output>\n",
       "      <script src=\"/nbextensions/google.colab/files.js\"></script> "
      ],
      "text/plain": [
       "<IPython.core.display.HTML object>"
      ]
     },
     "metadata": {
      "tags": []
     },
     "output_type": "display_data"
    },
    {
     "name": "stdout",
     "output_type": "stream",
     "text": [
      "Saving Cybersecurity_Car_Hacking_S_training-0.csv to Cybersecurity_Car_Hacking_S_training-0.csv\n",
      "Saving Cybersecurity_Car_Hacking_S_training-1.csv to Cybersecurity_Car_Hacking_S_training-1.csv\n"
     ]
    }
   ],
   "source": [
    "from google.colab import files\n",
    "uploaded = files.upload()"
   ]
  },
  {
   "cell_type": "code",
   "execution_count": 1,
   "metadata": {
    "colab": {
     "base_uri": "https://localhost:8080/",
     "height": 35
    },
    "executionInfo": {
     "elapsed": 1316,
     "status": "ok",
     "timestamp": 1602660528512,
     "user": {
      "displayName": "­이준수[ 학부재학 / 컴퓨터학과 ]",
      "photoUrl": "https://lh3.googleusercontent.com/a-/AOh14GgPSYzkvU8JvSEcAaxhfDugPgkoP6v1h_YhvO0=s64",
      "userId": "11359080006605365733"
     },
     "user_tz": -540
    },
    "id": "6TLXcPItpj2C",
    "outputId": "816f5cd7-f75c-40fc-f6af-e99dc24d3d39"
   },
   "outputs": [
    {
     "name": "stdout",
     "output_type": "stream",
     "text": [
      "sample_data\n"
     ]
    }
   ],
   "source": [
    "!ls"
   ]
  },
  {
   "cell_type": "markdown",
   "metadata": {
    "id": "AV7iBr29l5pU"
   },
   "source": [
    "Preprocess data"
   ]
  },
  {
   "cell_type": "code",
   "execution_count": 17,
   "metadata": {
    "executionInfo": {
     "elapsed": 93054,
     "status": "ok",
     "timestamp": 1602662887180,
     "user": {
      "displayName": "­이준수[ 학부재학 / 컴퓨터학과 ]",
      "photoUrl": "https://lh3.googleusercontent.com/a-/AOh14GgPSYzkvU8JvSEcAaxhfDugPgkoP6v1h_YhvO0=s64",
      "userId": "11359080006605365733"
     },
     "user_tz": -540
    },
    "id": "CVmd6Nrvl7RU"
   },
   "outputs": [],
   "source": [
    "import pandas as pd\n",
    "import numpy\n",
    "import torch\n",
    "\n",
    "if torch.cuda.is_available():\n",
    "  dev = \"cuda:0\"\n",
    "else:\n",
    "  dev = \"cpu\"\n",
    "\n",
    "# Read CSV file\n",
    "csv_file = 'Cybersecurity_Car_Hacking_S_training-1.csv'\n",
    "data_frame = pd.read_csv(csv_file)\n",
    "mod_data_lst = []\n",
    "\n",
    "# Process rows\n",
    "for idx, row in data_frame.iterrows():\n",
    "  mod_data_lst.append(process_rows(row))\n",
    "\n",
    "mod_data_frame = pd.DataFrame(mod_data_lst, columns = ['Timestamp', 'AID', 'DLC', 'Data0', 'Data1', 'Data2', 'Data3', 'Data4', 'Data5', 'Data6', 'Data7', 'Class'])\n",
    "n = len(mod_data_frame)\n",
    "x_train = mod_data_frame.iloc[0:n, 0:11].values\n",
    "y_train = mod_data_frame.iloc[0:n, 11].values\n",
    "\n",
    "x_train = create_sequences(x_train, 1)\n",
    "y_train = create_sequences(y_train, 1)"
   ]
  },
  {
   "cell_type": "markdown",
   "metadata": {
    "id": "HjEnYndtjIl7"
   },
   "source": [
    "Tools for training"
   ]
  },
  {
   "cell_type": "code",
   "execution_count": 18,
   "metadata": {
    "executionInfo": {
     "elapsed": 545,
     "status": "ok",
     "timestamp": 1602662895250,
     "user": {
      "displayName": "­이준수[ 학부재학 / 컴퓨터학과 ]",
      "photoUrl": "https://lh3.googleusercontent.com/a-/AOh14GgPSYzkvU8JvSEcAaxhfDugPgkoP6v1h_YhvO0=s64",
      "userId": "11359080006605365733"
     },
     "user_tz": -540
    },
    "id": "OGns5bGyjKRy"
   },
   "outputs": [],
   "source": [
    "import torch\n",
    "import torch.nn as nn\n",
    "import numpy as np\n",
    "\n",
    "def train_model(model, train_data, train_labels, test_data=None, test_labels=None, num_epochs=250, lr=1e-3):\n",
    "  loss_func = nn.MSELoss()\n",
    "\n",
    "  optimizer = torch.optim.Adam(model.parameters(), lr=lr, weight_decay=1e-4)\n",
    "  num_epochs = num_epochs\n",
    "\n",
    "  train_hist = np.zeros(num_epochs)\n",
    "  test_hist = np.zeros(num_epochs)\n",
    "\n",
    "  for epoch in range(num_epochs):\n",
    "    model.reset_hidden_state()\n",
    "    y_pred = model(train_data)\n",
    "    loss = loss_func(y_pred, train_labels[:, -1, :])\n",
    "\n",
    "    if test_data is not None:\n",
    "      with torch.no_grad():\n",
    "        y_test_pred = model(test_data)\n",
    "        test_loss = loss_func(y_test_pred.float(), test_labels[:, -1, :])\n",
    "      test_hist[epoch] = test_loss.item()\n",
    "\n",
    "      if epoch % 10 == 0:\n",
    "        print(f'Epoch {epoch} train loss: {round(loss.item(), 6)} test loss: {round(test_loss.item(), 6)}')\n",
    "    elif epoch % 10 == 0:\n",
    "      print(f'Epoch {epoch} train loss: {round(loss.item(), 6)}')\n",
    "    train_hist[epoch] = loss.item()\n",
    "    optimizer.zero_grad()\n",
    "    loss.backward()\n",
    "    optimizer.step()\n",
    "\n",
    "  return model.eval(), train_hist, test_hist"
   ]
  },
  {
   "cell_type": "markdown",
   "metadata": {
    "id": "MfbtLhuUnnVm"
   },
   "source": [
    "Then what will we need?"
   ]
  },
  {
   "cell_type": "code",
   "execution_count": null,
   "metadata": {
    "colab": {
     "base_uri": "https://localhost:8080/",
     "height": 89
    },
    "id": "iD35hgjOnpiN",
    "outputId": "11cf24e9-4b8b-4547-fc53-33e85b1ef95c"
   },
   "outputs": [
    {
     "name": "stdout",
     "output_type": "stream",
     "text": [
      "cuda:0\n",
      "Epoch 0 train loss: 0.248899 test loss: 0.256242\n",
      "Epoch 10 train loss: 0.178961 test loss: 0.185783\n",
      "Epoch 20 train loss: 0.129499 test loss: 0.133675\n"
     ]
    }
   ],
   "source": [
    "hidden_dim = 128\n",
    "n_layers = 2\n",
    "lr = 1e-4\n",
    "num_epochs = 200\n",
    "seq_len = 1\n",
    "n_class = 5\n",
    "\n",
    "if torch.cuda.is_available():\n",
    "  dev = \"cuda:0\"\n",
    "else:\n",
    "  dev = \"cpu\"\n",
    "\n",
    "print(dev)\n",
    "\n",
    "x_test_sub = x_train[-100000:]\n",
    "y_test_sub = y_train[-100000:]\n",
    "\n",
    "# to delete\n",
    "x_train_sub = x_train[0:600000]\n",
    "y_train_sub = y_train[0:600000]\n",
    "\n",
    "# print(x_train_sub[0])\n",
    "# print(y_train_sub[0])\n",
    "\n",
    "x_train_sub = torch.tensor(x_train_sub, dtype=torch.float32).to(torch.device(dev))\n",
    "y_train_sub = torch.tensor(y_train_sub, dtype=torch.float32).to(torch.device(dev))\n",
    "\n",
    "x_test_sub = torch.tensor(x_test_sub, dtype=torch.float32).to(torch.device(dev))\n",
    "y_test_sub = torch.tensor(y_test_sub, dtype=torch.float32).to(torch.device(dev))\n",
    "\n",
    "input_dim = x_train_sub.shape[-1]\n",
    "\n",
    "model = Car_LSTM(input_dim=input_dim, hidden_dim=hidden_dim, seq_len=seq_len, n_layers=n_layers, n_class=n_class)\n",
    "model.to(torch.device(dev))\n",
    "model, train_hist, test_hist = train_model(model, x_train_sub, y_train_sub, x_test_sub, y_test_sub, num_epochs=num_epochs, lr=lr)\n"
   ]
  },
  {
   "cell_type": "markdown",
   "metadata": {
    "id": "O8h06rv5vPi4"
   },
   "source": [
    "What's the result like?"
   ]
  },
  {
   "cell_type": "code",
   "execution_count": 16,
   "metadata": {
    "executionInfo": {
     "elapsed": 3911,
     "status": "ok",
     "timestamp": 1602662364077,
     "user": {
      "displayName": "­이준수[ 학부재학 / 컴퓨터학과 ]",
      "photoUrl": "https://lh3.googleusercontent.com/a-/AOh14GgPSYzkvU8JvSEcAaxhfDugPgkoP6v1h_YhvO0=s64",
      "userId": "11359080006605365733"
     },
     "user_tz": -540
    },
    "id": "yamXaGIdvRCf"
   },
   "outputs": [],
   "source": [
    "x_target = x_train[50000:70000]\n",
    "y_target = y_train[50000:70000]\n",
    "\n",
    "x_target = torch.tensor(x_target, dtype=torch.float32).to(torch.device(dev))\n",
    "y_target = torch.tensor(y_target, dtype=torch.float32).to(torch.device(dev))\n",
    "\n",
    "with torch.no_grad():\n",
    "    y_target_pred = model(x_target)\n",
    "  \n",
    "for i in range(len(y_target_pred)):\n",
    "  elem = y_target_pred[i].cpu().numpy()\n",
    "  if y_target[i][-1][0] != 1:\n",
    "    print(elem)"
   ]
  },
  {
   "cell_type": "code",
   "execution_count": null,
   "metadata": {
    "colab": {
     "base_uri": "https://localhost:8080/",
     "height": 217
    },
    "executionInfo": {
     "elapsed": 1383,
     "status": "ok",
     "timestamp": 1602607669873,
     "user": {
      "displayName": "­이준수[ 학부재학 / 컴퓨터학과 ]",
      "photoUrl": "https://lh3.googleusercontent.com/a-/AOh14GgPSYzkvU8JvSEcAaxhfDugPgkoP6v1h_YhvO0=s64",
      "userId": "11359080006605365733"
     },
     "user_tz": -540
    },
    "id": "n_DmnO1s2-zF",
    "outputId": "a58d7849-e1bc-40e3-8bbf-11d854adb99b"
   },
   "outputs": [
    {
     "name": "stdout",
     "output_type": "stream",
     "text": [
      "Our model: \n",
      "\n",
      " Car_LSTM(\n",
      "  (lstm): LSTM(11, 64, num_layers=2, dropout=0.2)\n",
      "  (fc): Linear(in_features=64, out_features=5, bias=True)\n",
      ") \n",
      "\n",
      "The state dict keys: \n",
      "\n",
      " odict_keys(['lstm.weight_ih_l0', 'lstm.weight_hh_l0', 'lstm.bias_ih_l0', 'lstm.bias_hh_l0', 'lstm.weight_ih_l1', 'lstm.weight_hh_l1', 'lstm.bias_ih_l1', 'lstm.bias_hh_l1', 'fc.weight', 'fc.bias'])\n"
     ]
    },
    {
     "data": {
      "application/javascript": [
       "\n",
       "    async function download(id, filename, size) {\n",
       "      if (!google.colab.kernel.accessAllowed) {\n",
       "        return;\n",
       "      }\n",
       "      const div = document.createElement('div');\n",
       "      const label = document.createElement('label');\n",
       "      label.textContent = `Downloading \"${filename}\": `;\n",
       "      div.appendChild(label);\n",
       "      const progress = document.createElement('progress');\n",
       "      progress.max = size;\n",
       "      div.appendChild(progress);\n",
       "      document.body.appendChild(div);\n",
       "\n",
       "      const buffers = [];\n",
       "      let downloaded = 0;\n",
       "\n",
       "      const channel = await google.colab.kernel.comms.open(id);\n",
       "      // Send a message to notify the kernel that we're ready.\n",
       "      channel.send({})\n",
       "\n",
       "      for await (const message of channel.messages) {\n",
       "        // Send a message to notify the kernel that we're ready.\n",
       "        channel.send({})\n",
       "        if (message.buffers) {\n",
       "          for (const buffer of message.buffers) {\n",
       "            buffers.push(buffer);\n",
       "            downloaded += buffer.byteLength;\n",
       "            progress.value = downloaded;\n",
       "          }\n",
       "        }\n",
       "      }\n",
       "      const blob = new Blob(buffers, {type: 'application/binary'});\n",
       "      const a = document.createElement('a');\n",
       "      a.href = window.URL.createObjectURL(blob);\n",
       "      a.download = filename;\n",
       "      div.appendChild(a);\n",
       "      a.click();\n",
       "      div.remove();\n",
       "    }\n",
       "  "
      ],
      "text/plain": [
       "<IPython.core.display.Javascript object>"
      ]
     },
     "metadata": {
      "tags": []
     },
     "output_type": "display_data"
    },
    {
     "data": {
      "application/javascript": [
       "download(\"download_5d78a8a8-3a6b-4ccc-9095-f9509887c531\", \"checkpoint.pth\", 215358)"
      ],
      "text/plain": [
       "<IPython.core.display.Javascript object>"
      ]
     },
     "metadata": {
      "tags": []
     },
     "output_type": "display_data"
    }
   ],
   "source": [
    "print(\"Our model: \\n\\n\", model, '\\n')\n",
    "print(\"The state dict keys: \\n\\n\", model.state_dict().keys())\n",
    "\n",
    "torch.save(model.state_dict(), 'checkpoint.pth')\n",
    "\n",
    "# download checkpoint file\n",
    "files.download('checkpoint.pth')"
   ]
  }
 ],
 "metadata": {
  "accelerator": "GPU",
  "colab": {
   "authorship_tag": "ABX9TyPuklxNASVbXA9LXgVEae84",
   "name": "Untitled0.ipynb",
   "provenance": []
  },
  "kernelspec": {
   "display_name": "Python 3",
   "language": "python",
   "name": "python3"
  },
  "language_info": {
   "codemirror_mode": {
    "name": "ipython",
    "version": 3
   },
   "file_extension": ".py",
   "mimetype": "text/x-python",
   "name": "python",
   "nbconvert_exporter": "python",
   "pygments_lexer": "ipython3",
   "version": "3.7.6"
  }
 },
 "nbformat": 4,
 "nbformat_minor": 1
}
